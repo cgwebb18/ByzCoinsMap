{
 "cells": [
  {
   "cell_type": "code",
   "execution_count": 10,
   "metadata": {},
   "outputs": [],
   "source": [
    "import requests\n",
    "import pandas as pd\n",
    "import geojson\n",
    "import math\n",
    "from selenium import webdriver\n",
    "from bs4 import BeautifulSoup\n",
    "from selenium.webdriver.support.ui import WebDriverWait\n",
    "from selenium.webdriver.support import expected_conditions as EC\n",
    "from selenium.webdriver.common.by import By\n",
    "from selenium.common.exceptions import TimeoutException"
   ]
  },
  {
   "cell_type": "code",
   "execution_count": 2,
   "metadata": {},
   "outputs": [],
   "source": [
    "url = \"https://www.doaks.org/resources/coins/catalogue#b_start=0\"\n",
    "browser = webdriver.Chrome(executable_path = '/Users/webbc01/Desktop/ByzCoinsMap/chromedriver')\n",
    "browser.get(url)\n",
    "browser.find_element_by_id('__ac_name').send_keys('WebbC01')\n",
    "browser.find_element_by_id('__ac_password').send_keys('CharlesW')\n",
    "browser.find_element_by_css_selector('input[type=submit]').click()\n",
    "try:\n",
    "    myElem = WebDriverWait(browser, 10).until(EC.presence_of_element_located((By.CSS_SELECTOR, 'div.TextileEntry')))\n",
    "except TimeoutException:\n",
    "    print(\"Loading took too much time!\")\n",
    "html = browser.page_source\n",
    "soup = BeautifulSoup(html, 'html.parser')\n",
    "#get all options for the mints category\n",
    "mints = soup.find('select', {'id': 'c11'})\n",
    "#exclude all mints with 'disabled' attributes\n",
    "f_mints = []\n",
    "for mint in mints.children:\n",
    "    if mint != '\\n':\n",
    "        if len(mint.attrs) < 4:\n",
    "            f_mints.append(mint['value'])\n",
    "\n",
    "\n"
   ]
  },
  {
   "cell_type": "code",
   "execution_count": 3,
   "metadata": {},
   "outputs": [
    {
     "name": "stdout",
     "output_type": "stream",
     "text": [
      "['Abila', 'Alexandria', 'Alexandria ad Issum', 'Al-Jazira', 'Amida', 'Antioch', 'Arta', 'Baalbek/Heliopolis', 'Baisan/Skythopolis', 'Beneventum', 'Caesarea', 'Carthage', 'Catania', 'Cherson', 'Constantinople', 'Cyprus', 'Damascus', 'Fustat', 'Halab/Beroea', 'Hisn Kayfa', 'Ifriqya', 'Isaur(i)a', 'Italian Mint', 'Jerash/Gerasa', 'Jerusalem', 'Kyzikos', 'Lund', 'Magnesia', 'Merida', 'Military', 'Mytilene', 'Neapolis/Nablus', 'Nikomedeia', 'Philadelphia', 'Philippopolis', 'Ragusa', 'Ravenna', 'Rome', 'Sardinia', 'Sel=C3=A7uk/Theologos', 'Seleukeia', 'Sicily', 'Sis', 'Spain', 'Syracuse', 'Syrian Mint', 'Thessalonike', 'Ticinum', 'Trebizond', 'Turnovo', 'Uncertain Mint', 'Vidin', 'Yubna']\n"
     ]
    }
   ],
   "source": [
    "print(f_mints)"
   ]
  },
  {
   "cell_type": "code",
   "execution_count": 16,
   "metadata": {},
   "outputs": [],
   "source": [
    "mint_coords = pd.read_excel('Mint-Locations.xlsx')\n",
    "acc = []\n",
    "for idx, row in mint_coords.iterrows():\n",
    "    if math.isnan(row.Longitude) == False:\n",
    "        temp_p = geojson.Point([row.Longitude, row.Latitude])\n",
    "        temp_f = geojson.Feature(geometry=temp_p, properties={'Mint': row.Mint})\n",
    "        acc.append(temp_f)\n",
    "        \n",
    "f_c = geojson.FeatureCollection(acc)\n",
    "\n",
    "with open('mints.geojson', 'w') as f:\n",
    "    geojson.dump(f_c, f)\n",
    "    f.close()"
   ]
  },
  {
   "cell_type": "code",
   "execution_count": null,
   "metadata": {},
   "outputs": [],
   "source": []
  },
  {
   "cell_type": "code",
   "execution_count": null,
   "metadata": {},
   "outputs": [],
   "source": []
  },
  {
   "cell_type": "code",
   "execution_count": null,
   "metadata": {},
   "outputs": [],
   "source": []
  },
  {
   "cell_type": "code",
   "execution_count": null,
   "metadata": {},
   "outputs": [],
   "source": []
  },
  {
   "cell_type": "code",
   "execution_count": null,
   "metadata": {},
   "outputs": [],
   "source": []
  }
 ],
 "metadata": {
  "kernelspec": {
   "display_name": "Python 3",
   "language": "python",
   "name": "python3"
  },
  "language_info": {
   "codemirror_mode": {
    "name": "ipython",
    "version": 3
   },
   "file_extension": ".py",
   "mimetype": "text/x-python",
   "name": "python",
   "nbconvert_exporter": "python",
   "pygments_lexer": "ipython3",
   "version": "3.7.1"
  }
 },
 "nbformat": 4,
 "nbformat_minor": 2
}
