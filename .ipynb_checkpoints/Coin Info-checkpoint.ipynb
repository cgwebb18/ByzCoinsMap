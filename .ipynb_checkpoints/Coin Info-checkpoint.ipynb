{
 "cells": [
  {
   "cell_type": "code",
   "execution_count": 1,
   "metadata": {},
   "outputs": [],
   "source": [
    "import requests\n",
    "from selenium import webdriver\n",
    "from bs4 import BeautifulSoup\n",
    "from selenium.webdriver.support.ui import WebDriverWait\n",
    "from selenium.webdriver.support import expected_conditions as EC\n",
    "from selenium.webdriver.common.by import By\n",
    "from selenium.common.exceptions import TimeoutException"
   ]
  },
  {
   "cell_type": "code",
   "execution_count": 4,
   "metadata": {},
   "outputs": [],
   "source": [
    "url = \"https://www.doaks.org/resources/coins/catalogue#b_start=0\"\n",
    "browser = webdriver.Chrome(executable_path = '/Users/webbc01/Desktop/ByzCoinsMap/chromedriver')\n",
    "browser.get(url)\n",
    "browser.find_element_by_id('__ac_name').send_keys('WebbC01')\n",
    "browser.find_element_by_id('__ac_password').send_keys('CharlesW')\n",
    "browser.find_element_by_css_selector('input[type=submit]').click()\n",
    "try:\n",
    "    myElem = WebDriverWait(browser, 10).until(EC.presence_of_element_located((By.CSS_SELECTOR, 'div.TextileEntry')))\n",
    "except TimeoutException:\n",
    "    print(\"Loading took too much time!\")\n",
    "html = browser.page_source\n",
    "soup = BeautifulSoup(html, 'html.parser')\n",
    "\n"
   ]
  },
  {
   "cell_type": "code",
   "execution_count": 9,
   "metadata": {},
   "outputs": [
    {
     "data": {
      "text/plain": [
       "<select class=\"faceted_index_select\" id=\"c11\" multiple=\"multiple\" name=\"c11\">\n",
       "<option title=\"Abila\" value=\"Abila\">Abila (1)</option>\n",
       "<option class=\"faceted-select-item-disabled\" disabled=\"disabled\" title=\"Adrianople\" value=\"Adrianople\">Adrianople (0)</option>\n",
       "<option title=\"Alexandria\" value=\"Alexandria\">Alexandria (7)</option>\n",
       "<option title=\"Alexandria ad Issum\" value=\"Alexandria ad Issum\">Alexandria ad Issum (1)</option>\n",
       "<option title=\"Al-Jazira\" value=\"Al-Jazira\">Al-Jazira (1)</option>\n",
       "<option class=\"faceted-select-item-disabled\" disabled=\"disabled\" title=\"Al-Ruha\" value=\"Al-Ruha\">Al-Ruha (0)</option>\n",
       "<option title=\"Amida\" value=\"Amida\">Amida (1)</option>\n",
       "<option class=\"faceted-select-item-disabled\" disabled=\"disabled\" title=\"Amman\" value=\"Amman\">Amman (0)</option>\n",
       "<option title=\"Antioch\" value=\"Antioch\">Antioch (42)</option>\n",
       "<option title=\"Arta\" value=\"Arta\">Arta (6)</option>\n",
       "<option title=\"Baalbek/Heliopolis\" value=\"Baalbek/Heliopolis\">Baalbek/Heliopolis (1)</option>\n",
       "<option title=\"Baisan/Skythopolis\" value=\"Baisan/Skythopolis\">Baisan/Skythopolis (3)</option>\n",
       "<option title=\"Beneventum\" value=\"Beneventum\">Beneventum (3)</option>\n",
       "<option title=\"Caesarea\" value=\"Caesarea\">Caesarea (1)</option>\n",
       "<option title=\"Carthage\" value=\"Carthage\">Carthage (43)</option>\n",
       "<option title=\"Catania\" value=\"Catania\">Catania (2)</option>\n",
       "<option title=\"Cherson\" value=\"Cherson\">Cherson (4)</option>\n",
       "<option title=\"Constantinople\" value=\"Constantinople\">Constantinople (190)</option>\n",
       "<option class=\"faceted-select-item-disabled\" disabled=\"disabled\" title=\"Corinth\" value=\"Corinth\">Corinth (0)</option>\n",
       "<option title=\"Cyprus\" value=\"Cyprus\">Cyprus (5)</option>\n",
       "<option title=\"Damascus\" value=\"Damascus\">Damascus (6)</option>\n",
       "<option class=\"faceted-select-item-disabled\" disabled=\"disabled\" title=\"Didymoteikhon\" value=\"Didymoteikhon\">Didymoteikhon (0)</option>\n",
       "<option class=\"faceted-select-item-disabled\" disabled=\"disabled\" title=\"Forgery\" value=\"Forgery\">Forgery (0)</option>\n",
       "<option title=\"Fustat\" value=\"Fustat\">Fustat (5)</option>\n",
       "<option title=\"Halab/Beroea\" value=\"Halab/Beroea\">Halab/Beroea (1)</option>\n",
       "<option class=\"faceted-select-item-disabled\" disabled=\"disabled\" title=\"Harran\" value=\"Harran\">Harran (0)</option>\n",
       "<option title=\"Hisn Kayfa\" value=\"Hisn Kayfa\">Hisn Kayfa (2)</option>\n",
       "<option class=\"faceted-select-item-disabled\" disabled=\"disabled\" title=\"Homs/Emesa\" value=\"Homs/Emesa\">Homs/Emesa (0)</option>\n",
       "<option title=\"Ifriqya\" value=\"Ifriqya\">Ifriqya (1)</option>\n",
       "<option title=\"Isaur(i)a\" value=\"Isaur(i)a\">Isaur(i)a (3)</option>\n",
       "<option title=\"Italian Mint\" value=\"Italian Mint\">Italian Mint (2)</option>\n",
       "<option title=\"Jerash/Gerasa\" value=\"Jerash/Gerasa\">Jerash/Gerasa (1)</option>\n",
       "<option title=\"Jerusalem\" value=\"Jerusalem\">Jerusalem (2)</option>\n",
       "<option class=\"faceted-select-item-disabled\" disabled=\"disabled\" title=\"Jibrin\" value=\"Jibrin\">Jibrin (0)</option>\n",
       "<option title=\"Kyzikos\" value=\"Kyzikos\">Kyzikos (13)</option>\n",
       "<option class=\"faceted-select-item-disabled\" disabled=\"disabled\" title=\"Ludd/Diospolis\" value=\"Ludd/Diospolis\">Ludd/Diospolis (0)</option>\n",
       "<option title=\"Lund\" value=\"Lund\">Lund (1)</option>\n",
       "<option class=\"faceted-select-item-disabled\" disabled=\"disabled\" title=\"Ma’arrat Misrin\" value=\"Ma=E2=80=99arrat Misrin\">Ma’arrat Misrin (0)</option>\n",
       "<option title=\"Magnesia\" value=\"Magnesia\">Magnesia (11)</option>\n",
       "<option class=\"faceted-select-item-disabled\" disabled=\"disabled\" title=\"Manbij\" value=\"Manbij\">Manbij (0)</option>\n",
       "<option title=\"Merida\" value=\"Merida\">Merida (1)</option>\n",
       "<option class=\"faceted-select-item-disabled\" disabled=\"disabled\" title=\"Milan\" value=\"Milan\">Milan (0)</option>\n",
       "<option title=\"Military\" value=\"Military\">Military (1)</option>\n",
       "<option title=\"Mytilene\" value=\"Mytilene\">Mytilene (1)</option>\n",
       "<option class=\"faceted-select-item-disabled\" disabled=\"disabled\" title=\"Naples\" value=\"Naples\">Naples (0)</option>\n",
       "<option title=\"Neapolis/Nablus\" value=\"Neapolis/Nablus\">Neapolis/Nablus (2)</option>\n",
       "<option class=\"faceted-select-item-disabled\" disabled=\"disabled\" title=\"Nicaea\" value=\"Nicaea\">Nicaea (0)</option>\n",
       "<option class=\"faceted-select-item-disabled\" disabled=\"disabled\" title=\"Nicosia\" value=\"Nicosia\">Nicosia (0)</option>\n",
       "<option title=\"Nikomedeia\" value=\"Nikomedeia\">Nikomedeia (18)</option>\n",
       "<option class=\"faceted-select-item-disabled\" disabled=\"disabled\" title=\"Panopolis\" value=\"Panopolis\">Panopolis (0)</option>\n",
       "<option title=\"Philadelphia\" value=\"Philadelphia\">Philadelphia (2)</option>\n",
       "<option title=\"Philippopolis\" value=\"Philippopolis\">Philippopolis (1)</option>\n",
       "<option class=\"faceted-select-item-disabled\" disabled=\"disabled\" title=\"Pseudo-Damascus\" value=\"Pseudo-Damascus\">Pseudo-Damascus (0)</option>\n",
       "<option class=\"faceted-select-item-disabled\" disabled=\"disabled\" title=\"Qinnasrin\" value=\"Qinnasrin\">Qinnasrin (0)</option>\n",
       "<option class=\"faceted-select-item-disabled\" disabled=\"disabled\" title=\"Qurus\" value=\"Qurus\">Qurus (0)</option>\n",
       "<option title=\"Ragusa\" value=\"Ragusa\">Ragusa (1)</option>\n",
       "<option title=\"Ravenna\" value=\"Ravenna\">Ravenna (17)</option>\n",
       "<option title=\"Rome\" value=\"Rome\">Rome (37)</option>\n",
       "<option class=\"faceted-select-item-disabled\" disabled=\"disabled\" title=\"Salamis\" value=\"Salamis\">Salamis (0)</option>\n",
       "<option class=\"faceted-select-item-disabled\" disabled=\"disabled\" title=\"Salona\" value=\"Salona\">Salona (0)</option>\n",
       "<option title=\"Sardinia\" value=\"Sardinia\">Sardinia (2)</option>\n",
       "<option class=\"faceted-select-item-disabled\" disabled=\"disabled\" title=\"Sarmin\" value=\"Sarmin\">Sarmin (0)</option>\n",
       "<option title=\"Selçuk/Theologos\" value=\"Sel=C3=A7uk/Theologos\">Selçuk/Theologos (1)</option>\n",
       "<option title=\"Seleukeia\" value=\"Seleukeia\">Seleukeia (1)</option>\n",
       "<option title=\"Sicily\" value=\"Sicily\">Sicily (2)</option>\n",
       "<option title=\"Sis\" value=\"Sis\">Sis (1)</option>\n",
       "<option title=\"Spain\" value=\"Spain\">Spain (2)</option>\n",
       "<option title=\"Syracuse\" value=\"Syracuse\">Syracuse (24)</option>\n",
       "<option title=\"Syrian Mint\" value=\"Syrian Mint\">Syrian Mint (1)</option>\n",
       "<option class=\"faceted-select-item-disabled\" disabled=\"disabled\" title=\"Tabariya/Tiberias\" value=\"Tabariya/Tiberias\">Tabariya/Tiberias (0)</option>\n",
       "<option class=\"faceted-select-item-disabled\" disabled=\"disabled\" title=\"Tanukh\" value=\"Tanukh\">Tanukh (0)</option>\n",
       "<option class=\"faceted-select-item-disabled\" disabled=\"disabled\" title=\"Tartus/Antarados\" value=\"Tartus/Antarados\">Tartus/Antarados (0)</option>\n",
       "<option title=\"Thessalonike\" value=\"Thessalonike\">Thessalonike (109)</option>\n",
       "<option title=\"Ticinum\" value=\"Ticinum\">Ticinum (3)</option>\n",
       "<option title=\"Trebizond\" value=\"Trebizond\">Trebizond (1)</option>\n",
       "<option title=\"Turnovo\" value=\"Turnovo\">Turnovo (8)</option>\n",
       "<option title=\"Uncertain Mint\" value=\"Uncertain Mint\">Uncertain Mint (98)</option>\n",
       "<option title=\"Vidin\" value=\"Vidin\">Vidin (1)</option>\n",
       "<option title=\"Yubna\" value=\"Yubna\">Yubna (7)</option>\n",
       "</select>"
      ]
     },
     "execution_count": 9,
     "metadata": {},
     "output_type": "execute_result"
    }
   ],
   "source": [
    "soup.find('select', {'id': 'c11'})"
   ]
  },
  {
   "cell_type": "code",
   "execution_count": null,
   "metadata": {},
   "outputs": [],
   "source": []
  },
  {
   "cell_type": "code",
   "execution_count": null,
   "metadata": {},
   "outputs": [],
   "source": []
  },
  {
   "cell_type": "code",
   "execution_count": null,
   "metadata": {},
   "outputs": [],
   "source": []
  }
 ],
 "metadata": {
  "kernelspec": {
   "display_name": "Python 3",
   "language": "python",
   "name": "python3"
  },
  "language_info": {
   "codemirror_mode": {
    "name": "ipython",
    "version": 3
   },
   "file_extension": ".py",
   "mimetype": "text/x-python",
   "name": "python",
   "nbconvert_exporter": "python",
   "pygments_lexer": "ipython3",
   "version": "3.7.1"
  }
 },
 "nbformat": 4,
 "nbformat_minor": 2
}
